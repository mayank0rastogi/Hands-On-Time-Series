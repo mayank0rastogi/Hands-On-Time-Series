{
  "cells": [
    {
      "cell_type": "markdown",
      "metadata": {
        "id": "JVC4S1rdXskN"
      },
      "source": [
        "<a href=\"https://colab.research.google.com/github/https-deeplearning-ai/tensorflow-1-public/blob/main/C4/W3/ungraded_labs/C4_W3_Lab_2_LSTM.ipynb\" target=\"_parent\"><img src=\"https://colab.research.google.com/assets/colab-badge.svg\" alt=\"Open In Colab\"/></a>"
      ]
    },
    {
      "cell_type": "markdown",
      "metadata": {
        "id": "sV_nvXSQGJPK"
      },
      "source": [
        "# Ungraded Lab: Using a multi-layer LSTM for forecasting\n",
        "\n",
        "In this lab, you will use the same RNN architecure in the first lab but will instead stack [LSTM](https://www.tensorflow.org/api_docs/python/tf/keras/layers/LSTM) layers instead of `SimpleRNN`."
      ]
    },
    {
      "cell_type": "markdown",
      "metadata": {
        "id": "3IMbAWETGOWD"
      },
      "source": [
        "## Imports"
      ]
    },
    {
      "cell_type": "code",
      "execution_count": 1,
      "metadata": {
        "id": "BOjujz601HcS"
      },
      "outputs": [],
      "source": [
        "import tensorflow as tf\n",
        "import numpy as np\n",
        "import matplotlib.pyplot as plt"
      ]
    },
    {
      "cell_type": "markdown",
      "metadata": {
        "id": "kD7RQQ0xGQVH"
      },
      "source": [
        "## Utilities"
      ]
    },
    {
      "cell_type": "code",
      "execution_count": 2,
      "metadata": {
        "id": "Zswl7jRtGzkk"
      },
      "outputs": [],
      "source": [
        "def plot_series(time, series, format=\"-\", start=0, end=None):\n",
        "    \"\"\"\n",
        "    Visualizes time series data\n",
        "\n",
        "    Args:\n",
        "      time (array of int) - contains the time steps\n",
        "      series (array of int) - contains the measurements for each time step\n",
        "      format - line style when plotting the graph\n",
        "      start - first time step to plot\n",
        "      end - last time step to plot\n",
        "    \"\"\"\n",
        "\n",
        "    # Setup dimensions of the graph figure\n",
        "    plt.figure(figsize=(10, 6))\n",
        "    \n",
        "    if type(series) is tuple:\n",
        "\n",
        "      for series_num in series:\n",
        "        # Plot the time series data\n",
        "        plt.plot(time[start:end], series_num[start:end], format)\n",
        "\n",
        "    else:\n",
        "      # Plot the time series data\n",
        "      plt.plot(time[start:end], series[start:end], format)\n",
        "\n",
        "    # Label the x-axis\n",
        "    plt.xlabel(\"Time\")\n",
        "\n",
        "    # Label the y-axis\n",
        "    plt.ylabel(\"Value\")\n",
        "\n",
        "    # Overlay a grid on the graph\n",
        "    plt.grid(True)\n",
        "\n",
        "    # Draw the graph on screen\n",
        "    plt.show()\n",
        "\n",
        "def trend(time, slope=0):\n",
        "    \"\"\"\n",
        "    Generates synthetic data that follows a straight line given a slope value.\n",
        "\n",
        "    Args:\n",
        "      time (array of int) - contains the time steps\n",
        "      slope (float) - determines the direction and steepness of the line\n",
        "\n",
        "    Returns:\n",
        "      series (array of float) - measurements that follow a straight line\n",
        "    \"\"\"\n",
        "\n",
        "    # Compute the linear series given the slope\n",
        "    series = slope * time\n",
        "\n",
        "    return series\n",
        "\n",
        "def seasonal_pattern(season_time):\n",
        "    \"\"\"\n",
        "    Just an arbitrary pattern, you can change it if you wish\n",
        "    \n",
        "    Args:\n",
        "      season_time (array of float) - contains the measurements per time step\n",
        "\n",
        "    Returns:\n",
        "      data_pattern (array of float) -  contains revised measurement values according \n",
        "                                  to the defined pattern\n",
        "    \"\"\"\n",
        "\n",
        "    # Generate the values using an arbitrary pattern\n",
        "    data_pattern = np.where(season_time < 0.4,\n",
        "                    np.cos(season_time * 2 * np.pi),\n",
        "                    1 / np.exp(3 * season_time))\n",
        "    \n",
        "    return data_pattern\n",
        "\n",
        "def seasonality(time, period, amplitude=1, phase=0):\n",
        "    \"\"\"\n",
        "    Repeats the same pattern at each period\n",
        "\n",
        "    Args:\n",
        "      time (array of int) - contains the time steps\n",
        "      period (int) - number of time steps before the pattern repeats\n",
        "      amplitude (int) - peak measured value in a period\n",
        "      phase (int) - number of time steps to shift the measured values\n",
        "\n",
        "    Returns:\n",
        "      data_pattern (array of float) - seasonal data scaled by the defined amplitude\n",
        "    \"\"\"\n",
        "    \n",
        "    # Define the measured values per period\n",
        "    season_time = ((time + phase) % period) / period\n",
        "\n",
        "    # Generates the seasonal data scaled by the defined amplitude\n",
        "    data_pattern = amplitude * seasonal_pattern(season_time)\n",
        "\n",
        "    return data_pattern\n",
        "\n",
        "def noise(time, noise_level=1, seed=None):\n",
        "    \"\"\"Generates a normally distributed noisy signal\n",
        "\n",
        "    Args:\n",
        "      time (array of int) - contains the time steps\n",
        "      noise_level (float) - scaling factor for the generated signal\n",
        "      seed (int) - number generator seed for repeatability\n",
        "\n",
        "    Returns:\n",
        "      noise (array of float) - the noisy signal\n",
        "    \"\"\"\n",
        "\n",
        "    # Initialize the random number generator\n",
        "    rnd = np.random.RandomState(seed)\n",
        "\n",
        "    # Generate a random number for each time step and scale by the noise level\n",
        "    noise = rnd.randn(len(time)) * noise_level\n",
        "    \n",
        "    return noise"
      ]
    },
    {
      "cell_type": "markdown",
      "metadata": {
        "id": "yxNyeFWjGSdj"
      },
      "source": [
        "## Generate the Synthetic Data"
      ]
    },
    {
      "cell_type": "code",
      "execution_count": 3,
      "metadata": {
        "id": "KYEUfDbdpHPm",
        "colab": {
          "base_uri": "https://localhost:8080/",
          "height": 388
        },
        "outputId": "7d64a2ac-c69d-499f-fc50-9b9ddd030ab7"
      },
      "outputs": [
        {
          "output_type": "display_data",
          "data": {
            "text/plain": [
              "<Figure size 720x432 with 1 Axes>"
            ],
            "image/png": "[encoded data removed]"
          },
          "metadata": {
            "needs_background": "light"
          }
        }
      ],
      "source": [
        "# Parameters\n",
        "time = np.arange(4 * 365 + 1, dtype=\"float32\")\n",
        "baseline = 10\n",
        "amplitude = 40\n",
        "slope = 0.05\n",
        "noise_level = 5\n",
        "\n",
        "# Create the series\n",
        "series = baseline + trend(time, slope) + seasonality(time, period=365, amplitude=amplitude)\n",
        "\n",
        "# Update with noise\n",
        "series += noise(time, noise_level, seed=42)\n",
        "\n",
        "# Plot the results\n",
        "plot_series(time, series)"
      ]
    },
    {
      "cell_type": "markdown",
      "metadata": {
        "id": "MYKCvv-eGWRc"
      },
      "source": [
        "## Split the Dataset"
      ]
    },
    {
      "cell_type": "code",
      "execution_count": 4,
      "metadata": {
        "id": "hpp0slenpKVD"
      },
      "outputs": [],
      "source": [
        "# Define the split time\n",
        "split_time = 1000\n",
        "\n",
        "# Get the train set \n",
        "time_train = time[:split_time]\n",
        "x_train = series[:split_time]\n",
        "\n",
        "# Get the validation set\n",
        "time_valid = time[split_time:]\n",
        "x_valid = series[split_time:]"
      ]
    },
    {
      "cell_type": "markdown",
      "metadata": {
        "id": "cktHz9aOGYtV"
      },
      "source": [
        "## Prepare Features and Labels"
      ]
    },
    {
      "cell_type": "code",
      "execution_count": 5,
      "metadata": {
        "id": "G_j_2_Mqwn7-"
      },
      "outputs": [],
      "source": [
        "# Parameters\n",
        "window_size = 20\n",
        "batch_size = 32\n",
        "shuffle_buffer_size = 1000"
      ]
    },
    {
      "cell_type": "code",
      "execution_count": 6,
      "metadata": {
        "id": "4sTTIOCbyShY"
      },
      "outputs": [],
      "source": [
        "def windowed_dataset(series, window_size, batch_size, shuffle_buffer):\n",
        "    \"\"\"Generates dataset windows\n",
        "\n",
        "    Args:\n",
        "      series (array of float) - contains the values of the time series\n",
        "      window_size (int) - the number of time steps to include in the feature\n",
        "      batch_size (int) - the batch size\n",
        "      shuffle_buffer(int) - buffer size to use for the shuffle method\n",
        "\n",
        "    Returns:\n",
        "      dataset (TF Dataset) - TF Dataset containing time windows\n",
        "    \"\"\"\n",
        "  \n",
        "    # Generate a TF Dataset from the series values\n",
        "    dataset = tf.data.Dataset.from_tensor_slices(series)\n",
        "    \n",
        "    # Window the data but only take those with the specified size\n",
        "    dataset = dataset.window(window_size + 1, shift=1, drop_remainder=True)\n",
        "    \n",
        "    # Flatten the windows by putting its elements in a single batch\n",
        "    dataset = dataset.flat_map(lambda window: window.batch(window_size + 1))\n",
        "\n",
        "    # Create tuples with features and labels \n",
        "    dataset = dataset.map(lambda window: (window[:-1], window[-1]))\n",
        "\n",
        "    # Shuffle the windows\n",
        "    dataset = dataset.shuffle(shuffle_buffer)\n",
        "    \n",
        "    # Create batches of windows\n",
        "    dataset = dataset.batch(batch_size).prefetch(1)\n",
        "    \n",
        "    return dataset"
      ]
    },
    {
      "cell_type": "code",
      "execution_count": 7,
      "metadata": {
        "id": "vGj5-InSwtQQ"
      },
      "outputs": [],
      "source": [
        "# Generate the dataset windows\n",
        "dataset = windowed_dataset(x_train, window_size, batch_size, shuffle_buffer_size)"
      ]
    },
    {
      "cell_type": "markdown",
      "metadata": {
        "id": "p9-Ke8ZaGcjd"
      },
      "source": [
        "## Build the Model\n",
        "\n",
        "As mentioned, you will swap `SimpleRNN` for `LSTM` in this lab. It is also set as bidirectional below but feel free to revise later and see what results you get. LSTMs are much more complex in their internal architecture than simpleRNNs. It implements a cell state that allows it to remember sequences better than simple implementations. This added complexity results in a bigger set of parameters to train and you'll see that when you print the model summary below."
      ]
    },
    {
      "cell_type": "code",
      "execution_count": 8,
      "metadata": {
        "id": "A1Hl39rklkLm",
        "colab": {
          "base_uri": "https://localhost:8080/"
        },
        "outputId": "53640977-34d1-4483-ec0e-904e9a8056f2"
      },
      "outputs": [
        {
          "output_type": "stream",
          "name": "stdout",
          "text": [
            "Model: \"sequential\"\n",
            "_________________________________________________________________\n",
            " Layer (type)                Output Shape              Param #   \n",
            "=================================================================\n",
            " lambda (Lambda)             (None, 20, 1)             0         \n",
            "                                                                 \n",
            " bidirectional (Bidirectiona  (None, 20, 64)           8704      \n",
            " l)                                                              \n",
            "                                                                 \n",
            " bidirectional_1 (Bidirectio  (None, 64)               24832     \n",
            " nal)                                                            \n",
            "                                                                 \n",
            " dense (Dense)               (None, 1)                 65        \n",
            "                                                                 \n",
            " lambda_1 (Lambda)           (None, 1)                 0         \n",
            "                                                                 \n",
            "=================================================================\n",
            "Total params: 33,601\n",
            "Trainable params: 33,601\n",
            "Non-trainable params: 0\n",
            "_________________________________________________________________\n"
          ]
        }
      ],
      "source": [
        "# Build the Model\n",
        "model_tune = tf.keras.models.Sequential([\n",
        "  tf.keras.layers.Lambda(lambda x: tf.expand_dims(x, axis=-1),\n",
        "                      input_shape=[window_size]),\n",
        "    tf.keras.layers.Bidirectional(tf.keras.layers.LSTM(32, return_sequences=True)),\n",
        "  tf.keras.layers.Bidirectional(tf.keras.layers.LSTM(32)),\n",
        "  tf.keras.layers.Dense(1),\n",
        "  tf.keras.layers.Lambda(lambda x: x * 100.0)\n",
        "])\n",
        "\n",
        "# Print the model summary\n",
        "model_tune.summary()"
      ]
    },
    {
      "cell_type": "markdown",
      "metadata": {
        "id": "FHaFblbwq0GV"
      },
      "source": [
        "## Tune the Learning Rate\n",
        "\n",
        "As usual, you will pick a learning rate by running the tuning code below."
      ]
    },
    {
      "cell_type": "code",
      "execution_count": 9,
      "metadata": {
        "id": "qE7al18qw48G",
        "colab": {
          "base_uri": "https://localhost:8080/"
        },
        "outputId": "f1a22ae0-4510-4aac-8d3b-8139986edd3d"
      },
      "outputs": [
        {
          "output_type": "stream",
          "name": "stdout",
          "text": [
            "Epoch 1/100\n",
            "31/31 [==============================] - 15s 19ms/step - loss: 22.5559 - lr: 1.0000e-08\n",
            "Epoch 2/100\n",
            "31/31 [==============================] - 0s 10ms/step - loss: 21.6304 - lr: 1.1220e-08\n",
            "Epoch 3/100\n",
            "31/31 [==============================] - 0s 10ms/step - loss: 20.5633 - lr: 1.2589e-08\n",
            "Epoch 4/100\n",
            "31/31 [==============================] - 0s 9ms/step - loss: 19.4517 - lr: 1.4125e-08\n",
            "Epoch 5/100\n",
            "31/31 [==============================] - 0s 10ms/step - loss: 18.3197 - lr: 1.5849e-08\n",
            "Epoch 6/100\n",
            "31/31 [==============================] - 0s 10ms/step - loss: 17.2370 - lr: 1.7783e-08\n",
            "Epoch 7/100\n",
            "31/31 [==============================] - 0s 9ms/step - loss: 16.2147 - lr: 1.9953e-08\n",
            "Epoch 8/100\n",
            "31/31 [==============================] - 0s 9ms/step - loss: 15.3193 - lr: 2.2387e-08\n",
            "Epoch 9/100\n",
            "31/31 [==============================] - 0s 9ms/step - loss: 14.5336 - lr: 2.5119e-08\n",
            "Epoch 10/100\n",
            "31/31 [==============================] - 0s 10ms/step - loss: 13.8713 - lr: 2.8184e-08\n",
            "Epoch 11/100\n",
            "31/31 [==============================] - 0s 9ms/step - loss: 13.3131 - lr: 3.1623e-08\n",
            "Epoch 12/100\n",
            "31/31 [==============================] - 0s 10ms/step - loss: 12.8310 - lr: 3.5481e-08\n",
            "Epoch 13/100\n",
            "31/31 [==============================] - 0s 9ms/step - loss: 12.4599 - lr: 3.9811e-08\n",
            "Epoch 14/100\n",
            "31/31 [==============================] - 0s 10ms/step - loss: 12.1548 - lr: 4.4668e-08\n",
            "Epoch 15/100\n",
            "31/31 [==============================] - 0s 10ms/step - loss: 11.9144 - lr: 5.0119e-08\n",
            "Epoch 16/100\n",
            "31/31 [==============================] - 1s 14ms/step - loss: 11.7008 - lr: 5.6234e-08\n",
            "Epoch 17/100\n",
            "31/31 [==============================] - 1s 16ms/step - loss: 11.5016 - lr: 6.3096e-08\n",
            "Epoch 18/100\n",
            "31/31 [==============================] - 1s 14ms/step - loss: 11.2944 - lr: 7.0795e-08\n",
            "Epoch 19/100\n",
            "31/31 [==============================] - 1s 17ms/step - loss: 11.0735 - lr: 7.9433e-08\n",
            "Epoch 20/100\n",
            "31/31 [==============================] - 1s 13ms/step - loss: 10.8361 - lr: 8.9125e-08\n",
            "Epoch 21/100\n",
            "31/31 [==============================] - 1s 16ms/step - loss: 10.5796 - lr: 1.0000e-07\n",
            "Epoch 22/100\n",
            "31/31 [==============================] - 1s 16ms/step - loss: 10.3102 - lr: 1.1220e-07\n",
            "Epoch 23/100\n",
            "31/31 [==============================] - 1s 17ms/step - loss: 10.0089 - lr: 1.2589e-07\n",
            "Epoch 24/100\n",
            "31/31 [==============================] - 1s 18ms/step - loss: 9.6943 - lr: 1.4125e-07\n",
            "Epoch 25/100\n",
            "31/31 [==============================] - 1s 10ms/step - loss: 9.3677 - lr: 1.5849e-07\n",
            "Epoch 26/100\n",
            "31/31 [==============================] - 0s 10ms/step - loss: 9.0287 - lr: 1.7783e-07\n",
            "Epoch 27/100\n",
            "31/31 [==============================] - 0s 10ms/step - loss: 8.7001 - lr: 1.9953e-07\n",
            "Epoch 28/100\n",
            "31/31 [==============================] - 0s 9ms/step - loss: 8.3573 - lr: 2.2387e-07\n",
            "Epoch 29/100\n",
            "31/31 [==============================] - 0s 9ms/step - loss: 8.0623 - lr: 2.5119e-07\n",
            "Epoch 30/100\n",
            "31/31 [==============================] - 0s 10ms/step - loss: 7.7743 - lr: 2.8184e-07\n",
            "Epoch 31/100\n",
            "31/31 [==============================] - 0s 9ms/step - loss: 7.5077 - lr: 3.1623e-07\n",
            "Epoch 32/100\n",
            "31/31 [==============================] - 0s 9ms/step - loss: 7.2664 - lr: 3.5481e-07\n",
            "Epoch 33/100\n",
            "31/31 [==============================] - 0s 10ms/step - loss: 7.0605 - lr: 3.9811e-07\n",
            "Epoch 34/100\n",
            "31/31 [==============================] - 0s 10ms/step - loss: 6.8989 - lr: 4.4668e-07\n",
            "Epoch 35/100\n",
            "31/31 [==============================] - 0s 10ms/step - loss: 6.7569 - lr: 5.0119e-07\n",
            "Epoch 36/100\n",
            "31/31 [==============================] - 0s 10ms/step - loss: 6.6394 - lr: 5.6234e-07\n",
            "Epoch 37/100\n",
            "31/31 [==============================] - 0s 10ms/step - loss: 6.5410 - lr: 6.3096e-07\n",
            "Epoch 38/100\n",
            "31/31 [==============================] - 0s 10ms/step - loss: 6.4804 - lr: 7.0795e-07\n",
            "Epoch 39/100\n",
            "31/31 [==============================] - 0s 9ms/step - loss: 6.3986 - lr: 7.9433e-07\n",
            "Epoch 40/100\n",
            "31/31 [==============================] - 0s 9ms/step - loss: 6.3398 - lr: 8.9125e-07\n",
            "Epoch 41/100\n",
            "31/31 [==============================] - 0s 9ms/step - loss: 6.2986 - lr: 1.0000e-06\n",
            "Epoch 42/100\n",
            "31/31 [==============================] - 0s 9ms/step - loss: 6.2368 - lr: 1.1220e-06\n",
            "Epoch 43/100\n",
            "31/31 [==============================] - 0s 9ms/step - loss: 6.1910 - lr: 1.2589e-06\n",
            "Epoch 44/100\n",
            "31/31 [==============================] - 0s 9ms/step - loss: 6.0995 - lr: 1.4125e-06\n",
            "Epoch 45/100\n",
            "31/31 [==============================] - 0s 10ms/step - loss: 6.0392 - lr: 1.5849e-06\n",
            "Epoch 46/100\n",
            "31/31 [==============================] - 0s 9ms/step - loss: 6.0409 - lr: 1.7783e-06\n",
            "Epoch 47/100\n",
            "31/31 [==============================] - 0s 9ms/step - loss: 5.9356 - lr: 1.9953e-06\n",
            "Epoch 48/100\n",
            "31/31 [==============================] - 0s 9ms/step - loss: 5.8524 - lr: 2.2387e-06\n",
            "Epoch 49/100\n",
            "31/31 [==============================] - 0s 10ms/step - loss: 5.8020 - lr: 2.5119e-06\n",
            "Epoch 50/100\n",
            "31/31 [==============================] - 0s 9ms/step - loss: 5.7945 - lr: 2.8184e-06\n",
            "Epoch 51/100\n",
            "31/31 [==============================] - 0s 9ms/step - loss: 5.7036 - lr: 3.1623e-06\n",
            "Epoch 52/100\n",
            "31/31 [==============================] - 0s 10ms/step - loss: 5.5511 - lr: 3.5481e-06\n",
            "Epoch 53/100\n",
            "31/31 [==============================] - 0s 9ms/step - loss: 5.5025 - lr: 3.9811e-06\n",
            "Epoch 54/100\n",
            "31/31 [==============================] - 0s 9ms/step - loss: 5.6699 - lr: 4.4668e-06\n",
            "Epoch 55/100\n",
            "31/31 [==============================] - 0s 10ms/step - loss: 5.8006 - lr: 5.0119e-06\n",
            "Epoch 56/100\n",
            "31/31 [==============================] - 0s 10ms/step - loss: 5.7886 - lr: 5.6234e-06\n",
            "Epoch 57/100\n",
            "31/31 [==============================] - 0s 10ms/step - loss: 5.4154 - lr: 6.3096e-06\n",
            "Epoch 58/100\n",
            "31/31 [==============================] - 0s 9ms/step - loss: 5.2588 - lr: 7.0795e-06\n",
            "Epoch 59/100\n",
            "31/31 [==============================] - 0s 9ms/step - loss: 5.7879 - lr: 7.9433e-06\n",
            "Epoch 60/100\n",
            "31/31 [==============================] - 0s 10ms/step - loss: 5.2133 - lr: 8.9125e-06\n",
            "Epoch 61/100\n",
            "31/31 [==============================] - 0s 9ms/step - loss: 5.1752 - lr: 1.0000e-05\n",
            "Epoch 62/100\n",
            "31/31 [==============================] - 0s 9ms/step - loss: 5.0082 - lr: 1.1220e-05\n",
            "Epoch 63/100\n",
            "31/31 [==============================] - 0s 9ms/step - loss: 5.2786 - lr: 1.2589e-05\n",
            "Epoch 64/100\n",
            "31/31 [==============================] - 0s 9ms/step - loss: 5.3686 - lr: 1.4125e-05\n",
            "Epoch 65/100\n",
            "31/31 [==============================] - 0s 9ms/step - loss: 5.2975 - lr: 1.5849e-05\n",
            "Epoch 66/100\n",
            "31/31 [==============================] - 0s 9ms/step - loss: 5.1464 - lr: 1.7783e-05\n",
            "Epoch 67/100\n",
            "31/31 [==============================] - 0s 9ms/step - loss: 5.8998 - lr: 1.9953e-05\n",
            "Epoch 68/100\n",
            "31/31 [==============================] - 0s 10ms/step - loss: 5.3944 - lr: 2.2387e-05\n",
            "Epoch 69/100\n",
            "31/31 [==============================] - 0s 9ms/step - loss: 4.9680 - lr: 2.5119e-05\n",
            "Epoch 70/100\n",
            "31/31 [==============================] - 0s 9ms/step - loss: 5.2554 - lr: 2.8184e-05\n",
            "Epoch 71/100\n",
            "31/31 [==============================] - 0s 10ms/step - loss: 5.2446 - lr: 3.1623e-05\n",
            "Epoch 72/100\n",
            "31/31 [==============================] - 0s 10ms/step - loss: 6.2703 - lr: 3.5481e-05\n",
            "Epoch 73/100\n",
            "31/31 [==============================] - 0s 9ms/step - loss: 5.2158 - lr: 3.9811e-05\n",
            "Epoch 74/100\n",
            "31/31 [==============================] - 0s 10ms/step - loss: 6.6834 - lr: 4.4668e-05\n",
            "Epoch 75/100\n",
            "31/31 [==============================] - 0s 9ms/step - loss: 7.4144 - lr: 5.0119e-05\n",
            "Epoch 76/100\n",
            "31/31 [==============================] - 0s 10ms/step - loss: 5.3875 - lr: 5.6234e-05\n",
            "Epoch 77/100\n",
            "31/31 [==============================] - 0s 9ms/step - loss: 6.0856 - lr: 6.3096e-05\n",
            "Epoch 78/100\n",
            "31/31 [==============================] - 0s 10ms/step - loss: 8.2040 - lr: 7.0795e-05\n",
            "Epoch 79/100\n",
            "31/31 [==============================] - 0s 9ms/step - loss: 6.5851 - lr: 7.9433e-05\n",
            "Epoch 80/100\n",
            "31/31 [==============================] - 0s 10ms/step - loss: 7.2008 - lr: 8.9125e-05\n",
            "Epoch 81/100\n",
            "31/31 [==============================] - 0s 10ms/step - loss: 5.6652 - lr: 1.0000e-04\n",
            "Epoch 82/100\n",
            "31/31 [==============================] - 0s 10ms/step - loss: 6.0059 - lr: 1.1220e-04\n",
            "Epoch 83/100\n",
            "31/31 [==============================] - 0s 9ms/step - loss: 7.2524 - lr: 1.2589e-04\n",
            "Epoch 84/100\n",
            "31/31 [==============================] - 0s 9ms/step - loss: 6.5399 - lr: 1.4125e-04\n",
            "Epoch 85/100\n",
            "31/31 [==============================] - 0s 9ms/step - loss: 7.7181 - lr: 1.5849e-04\n",
            "Epoch 86/100\n",
            "31/31 [==============================] - 0s 9ms/step - loss: 10.7477 - lr: 1.7783e-04\n",
            "Epoch 87/100\n",
            "31/31 [==============================] - 0s 9ms/step - loss: 7.9801 - lr: 1.9953e-04\n",
            "Epoch 88/100\n",
            "31/31 [==============================] - 0s 10ms/step - loss: 7.7676 - lr: 2.2387e-04\n",
            "Epoch 89/100\n",
            "31/31 [==============================] - 0s 9ms/step - loss: 7.4438 - lr: 2.5119e-04\n",
            "Epoch 90/100\n",
            "31/31 [==============================] - 0s 9ms/step - loss: 7.3243 - lr: 2.8184e-04\n",
            "Epoch 91/100\n",
            "31/31 [==============================] - 0s 9ms/step - loss: 5.8026 - lr: 3.1623e-04\n",
            "Epoch 92/100\n",
            "31/31 [==============================] - 0s 9ms/step - loss: 6.0297 - lr: 3.5481e-04\n",
            "Epoch 93/100\n",
            "31/31 [==============================] - 0s 9ms/step - loss: 6.9574 - lr: 3.9811e-04\n",
            "Epoch 94/100\n",
            "31/31 [==============================] - 0s 10ms/step - loss: 8.7054 - lr: 4.4668e-04\n",
            "Epoch 95/100\n",
            "31/31 [==============================] - 0s 10ms/step - loss: 10.3194 - lr: 5.0119e-04\n",
            "Epoch 96/100\n",
            "31/31 [==============================] - 0s 10ms/step - loss: 10.2638 - lr: 5.6234e-04\n",
            "Epoch 97/100\n",
            "31/31 [==============================] - 0s 10ms/step - loss: 9.8605 - lr: 6.3096e-04\n",
            "Epoch 98/100\n",
            "31/31 [==============================] - 0s 9ms/step - loss: 9.2167 - lr: 7.0795e-04\n",
            "Epoch 99/100\n",
            "31/31 [==============================] - 0s 9ms/step - loss: 10.3802 - lr: 7.9433e-04\n",
            "Epoch 100/100\n",
            "31/31 [==============================] - 0s 10ms/step - loss: 9.2633 - lr: 8.9125e-04\n"
          ]
        }
      ],
      "source": [
        "# Set the learning rate scheduler\n",
        "lr_schedule = tf.keras.callbacks.LearningRateScheduler(\n",
        "    lambda epoch: 1e-8 * 10**(epoch / 20))\n",
        "\n",
        "# Initialize the optimizer\n",
        "optimizer = tf.keras.optimizers.SGD(momentum=0.9)\n",
        "\n",
        "# Set the training parameters\n",
        "model_tune.compile(loss=tf.keras.losses.Huber(), optimizer=optimizer)\n",
        "\n",
        "# Train the model\n",
        "history = model_tune.fit(dataset, epochs=100, callbacks=[lr_schedule])"
      ]
    },
    {
      "cell_type": "code",
      "execution_count": 10,
      "metadata": {
        "id": "AkBsrsXMzoWR",
        "colab": {
          "base_uri": "https://localhost:8080/",
          "height": 406
        },
        "outputId": "7b9e4dd1-e547-4629-9eee-3cd4e4f8e269"
      },
      "outputs": [
        {
          "output_type": "execute_result",
          "data": {
            "text/plain": [
              "(1e-08, 0.001, 0.0, 30.0)"
            ]
          },
          "metadata": {},
          "execution_count": 10
        },
        {
          "output_type": "display_data",
          "data": {
            "text/plain": [
              "<Figure size 720x432 with 1 Axes>"
            ],
            "image/png": "[encoded data removed]"
          },
          "metadata": {
            "needs_background": "light"
          }
        }
      ],
      "source": [
        "# Define the learning rate array\n",
        "lrs = 1e-8 * (10 ** (np.arange(100) / 20))\n",
        "\n",
        "# Set the figure size\n",
        "plt.figure(figsize=(10, 6))\n",
        "\n",
        "# Set the grid\n",
        "plt.grid(True)\n",
        "\n",
        "# Plot the loss in log scale\n",
        "plt.semilogx(lrs, history.history[\"loss\"])\n",
        "\n",
        "# Increase the tickmarks size\n",
        "plt.tick_params('both', length=10, width=1, which='both')\n",
        "\n",
        "# Set the plot boundaries\n",
        "plt.axis([1e-8, 1e-3, 0, 30])"
      ]
    },
    {
      "cell_type": "markdown",
      "metadata": {
        "id": "i-lKNp4pq_w8"
      },
      "source": [
        "## Train the Model\n",
        "\n",
        "You can then proceed to train the model with your chosen learning rate. \n",
        "\n",
        "*Tip: When experimenting and you find yourself running different iterations of a model, you may want to use the [`clear_session()`](https://www.tensorflow.org/api_docs/python/tf/keras/backend/clear_session) method to declutter memory used by Keras. This is added in the first line below.*\n"
      ]
    },
    {
      "cell_type": "code",
      "execution_count": 11,
      "metadata": {
        "id": "4uh-97bpLZCA",
        "colab": {
          "base_uri": "https://localhost:8080/"
        },
        "outputId": "cdd51519-d308-4ba2-d1f7-ba184ebee87a"
      },
      "outputs": [
        {
          "output_type": "stream",
          "name": "stdout",
          "text": [
            "Epoch 1/100\n",
            "31/31 [==============================] - 5s 10ms/step - loss: 21.2409 - mae: 21.7371\n",
            "Epoch 2/100\n",
            "31/31 [==============================] - 0s 10ms/step - loss: 13.8865 - mae: 14.3803\n",
            "Epoch 3/100\n",
            "31/31 [==============================] - 0s 9ms/step - loss: 10.6521 - mae: 11.1410\n",
            "Epoch 4/100\n",
            "31/31 [==============================] - 0s 10ms/step - loss: 8.2038 - mae: 8.6846\n",
            "Epoch 5/100\n",
            "31/31 [==============================] - 0s 10ms/step - loss: 6.9257 - mae: 7.4050\n",
            "Epoch 6/100\n",
            "31/31 [==============================] - 0s 10ms/step - loss: 6.3387 - mae: 6.8196\n",
            "Epoch 7/100\n",
            "31/31 [==============================] - 0s 10ms/step - loss: 6.1466 - mae: 6.6251\n",
            "Epoch 8/100\n",
            "31/31 [==============================] - 0s 10ms/step - loss: 5.9618 - mae: 6.4437\n",
            "Epoch 9/100\n",
            "31/31 [==============================] - 0s 10ms/step - loss: 5.8232 - mae: 6.3026\n",
            "Epoch 10/100\n",
            "31/31 [==============================] - 0s 11ms/step - loss: 5.7414 - mae: 6.2228\n",
            "Epoch 11/100\n",
            "31/31 [==============================] - 0s 12ms/step - loss: 5.7965 - mae: 6.2804\n",
            "Epoch 12/100\n",
            "31/31 [==============================] - 0s 11ms/step - loss: 5.5583 - mae: 6.0350\n",
            "Epoch 13/100\n",
            "31/31 [==============================] - 0s 10ms/step - loss: 5.4844 - mae: 5.9623\n",
            "Epoch 14/100\n",
            "31/31 [==============================] - 0s 11ms/step - loss: 5.4284 - mae: 5.9059\n",
            "Epoch 15/100\n",
            "31/31 [==============================] - 0s 10ms/step - loss: 5.3552 - mae: 5.8347\n",
            "Epoch 16/100\n",
            "31/31 [==============================] - 0s 10ms/step - loss: 5.2902 - mae: 5.7676\n",
            "Epoch 17/100\n",
            "31/31 [==============================] - 0s 10ms/step - loss: 5.2536 - mae: 5.7332\n",
            "Epoch 18/100\n",
            "31/31 [==============================] - 0s 10ms/step - loss: 5.2471 - mae: 5.7229\n",
            "Epoch 19/100\n",
            "31/31 [==============================] - 0s 10ms/step - loss: 5.1721 - mae: 5.6453\n",
            "Epoch 20/100\n",
            "31/31 [==============================] - 0s 10ms/step - loss: 5.0972 - mae: 5.5741\n",
            "Epoch 21/100\n",
            "31/31 [==============================] - 0s 10ms/step - loss: 5.1030 - mae: 5.5849\n",
            "Epoch 22/100\n",
            "31/31 [==============================] - 0s 10ms/step - loss: 5.0546 - mae: 5.5290\n",
            "Epoch 23/100\n",
            "31/31 [==============================] - 0s 10ms/step - loss: 4.9970 - mae: 5.4733\n",
            "Epoch 24/100\n",
            "31/31 [==============================] - 0s 10ms/step - loss: 5.0178 - mae: 5.4910\n",
            "Epoch 25/100\n",
            "31/31 [==============================] - 0s 10ms/step - loss: 4.9741 - mae: 5.4540\n",
            "Epoch 26/100\n",
            "31/31 [==============================] - 0s 10ms/step - loss: 4.9994 - mae: 5.4764\n",
            "Epoch 27/100\n",
            "31/31 [==============================] - 0s 10ms/step - loss: 4.9530 - mae: 5.4300\n",
            "Epoch 28/100\n",
            "31/31 [==============================] - 0s 10ms/step - loss: 4.9175 - mae: 5.3942\n",
            "Epoch 29/100\n",
            "31/31 [==============================] - 0s 9ms/step - loss: 4.9286 - mae: 5.4058\n",
            "Epoch 30/100\n",
            "31/31 [==============================] - 0s 9ms/step - loss: 4.8520 - mae: 5.3318\n",
            "Epoch 31/100\n",
            "31/31 [==============================] - 0s 10ms/step - loss: 4.8383 - mae: 5.3118\n",
            "Epoch 32/100\n",
            "31/31 [==============================] - 0s 10ms/step - loss: 4.8622 - mae: 5.3381\n",
            "Epoch 33/100\n",
            "31/31 [==============================] - 0s 10ms/step - loss: 4.8167 - mae: 5.2940\n",
            "Epoch 34/100\n",
            "31/31 [==============================] - 0s 10ms/step - loss: 4.8117 - mae: 5.2880\n",
            "Epoch 35/100\n",
            "31/31 [==============================] - 0s 10ms/step - loss: 4.7714 - mae: 5.2456\n",
            "Epoch 36/100\n",
            "31/31 [==============================] - 0s 10ms/step - loss: 4.8257 - mae: 5.2997\n",
            "Epoch 37/100\n",
            "31/31 [==============================] - 0s 10ms/step - loss: 4.7727 - mae: 5.2516\n",
            "Epoch 38/100\n",
            "31/31 [==============================] - 0s 9ms/step - loss: 4.7679 - mae: 5.2440\n",
            "Epoch 39/100\n",
            "31/31 [==============================] - 0s 10ms/step - loss: 4.7547 - mae: 5.2300\n",
            "Epoch 40/100\n",
            "31/31 [==============================] - 0s 10ms/step - loss: 4.7767 - mae: 5.2539\n",
            "Epoch 41/100\n",
            "31/31 [==============================] - 0s 10ms/step - loss: 4.8156 - mae: 5.2932\n",
            "Epoch 42/100\n",
            "31/31 [==============================] - 0s 10ms/step - loss: 4.8531 - mae: 5.3297\n",
            "Epoch 43/100\n",
            "31/31 [==============================] - 0s 10ms/step - loss: 4.8502 - mae: 5.3264\n",
            "Epoch 44/100\n",
            "31/31 [==============================] - 0s 10ms/step - loss: 4.7697 - mae: 5.2428\n",
            "Epoch 45/100\n",
            "31/31 [==============================] - 0s 10ms/step - loss: 4.7267 - mae: 5.2049\n",
            "Epoch 46/100\n",
            "31/31 [==============================] - 0s 10ms/step - loss: 4.6864 - mae: 5.1589\n",
            "Epoch 47/100\n",
            "31/31 [==============================] - 0s 10ms/step - loss: 4.7445 - mae: 5.2173\n",
            "Epoch 48/100\n",
            "31/31 [==============================] - 0s 9ms/step - loss: 4.6672 - mae: 5.1440\n",
            "Epoch 49/100\n",
            "31/31 [==============================] - 0s 10ms/step - loss: 4.7501 - mae: 5.2222\n",
            "Epoch 50/100\n",
            "31/31 [==============================] - 0s 10ms/step - loss: 4.6686 - mae: 5.1417\n",
            "Epoch 51/100\n",
            "31/31 [==============================] - 0s 10ms/step - loss: 4.6348 - mae: 5.1125\n",
            "Epoch 52/100\n",
            "31/31 [==============================] - 0s 10ms/step - loss: 4.6531 - mae: 5.1251\n",
            "Epoch 53/100\n",
            "31/31 [==============================] - 0s 11ms/step - loss: 4.6936 - mae: 5.1661\n",
            "Epoch 54/100\n",
            "31/31 [==============================] - 0s 10ms/step - loss: 4.6920 - mae: 5.1698\n",
            "Epoch 55/100\n",
            "31/31 [==============================] - 0s 10ms/step - loss: 4.6919 - mae: 5.1675\n",
            "Epoch 56/100\n",
            "31/31 [==============================] - 0s 10ms/step - loss: 4.6447 - mae: 5.1219\n",
            "Epoch 57/100\n",
            "31/31 [==============================] - 0s 10ms/step - loss: 4.6539 - mae: 5.1272\n",
            "Epoch 58/100\n",
            "31/31 [==============================] - 0s 10ms/step - loss: 4.6332 - mae: 5.1086\n",
            "Epoch 59/100\n",
            "31/31 [==============================] - 0s 10ms/step - loss: 4.6182 - mae: 5.0957\n",
            "Epoch 60/100\n",
            "31/31 [==============================] - 0s 10ms/step - loss: 4.5901 - mae: 5.0687\n",
            "Epoch 61/100\n",
            "31/31 [==============================] - 0s 10ms/step - loss: 4.6659 - mae: 5.1431\n",
            "Epoch 62/100\n",
            "31/31 [==============================] - 0s 10ms/step - loss: 4.6481 - mae: 5.1258\n",
            "Epoch 63/100\n",
            "31/31 [==============================] - 0s 10ms/step - loss: 4.5957 - mae: 5.0729\n",
            "Epoch 64/100\n",
            "31/31 [==============================] - 1s 20ms/step - loss: 4.6086 - mae: 5.0850\n",
            "Epoch 65/100\n",
            "31/31 [==============================] - 0s 10ms/step - loss: 4.5985 - mae: 5.0760\n",
            "Epoch 66/100\n",
            "31/31 [==============================] - 0s 10ms/step - loss: 4.6130 - mae: 5.0927\n",
            "Epoch 67/100\n",
            "31/31 [==============================] - 0s 9ms/step - loss: 4.5868 - mae: 5.0666\n",
            "Epoch 68/100\n",
            "31/31 [==============================] - 0s 9ms/step - loss: 4.5787 - mae: 5.0517\n",
            "Epoch 69/100\n",
            "31/31 [==============================] - 0s 10ms/step - loss: 4.5917 - mae: 5.0681\n",
            "Epoch 70/100\n",
            "31/31 [==============================] - 0s 10ms/step - loss: 4.5416 - mae: 5.0149\n",
            "Epoch 71/100\n",
            "31/31 [==============================] - 0s 10ms/step - loss: 4.6598 - mae: 5.1361\n",
            "Epoch 72/100\n",
            "31/31 [==============================] - 0s 10ms/step - loss: 4.6153 - mae: 5.0946\n",
            "Epoch 73/100\n",
            "31/31 [==============================] - 0s 10ms/step - loss: 4.5417 - mae: 5.0207\n",
            "Epoch 74/100\n",
            "31/31 [==============================] - 0s 11ms/step - loss: 4.5405 - mae: 5.0178\n",
            "Epoch 75/100\n",
            "31/31 [==============================] - 0s 10ms/step - loss: 4.5708 - mae: 5.0490\n",
            "Epoch 76/100\n",
            "31/31 [==============================] - 0s 11ms/step - loss: 4.5398 - mae: 5.0177\n",
            "Epoch 77/100\n",
            "31/31 [==============================] - 0s 10ms/step - loss: 4.5362 - mae: 5.0148\n",
            "Epoch 78/100\n",
            "31/31 [==============================] - 0s 10ms/step - loss: 4.5235 - mae: 5.0001\n",
            "Epoch 79/100\n",
            "31/31 [==============================] - 0s 10ms/step - loss: 4.5373 - mae: 5.0152\n",
            "Epoch 80/100\n",
            "31/31 [==============================] - 0s 11ms/step - loss: 4.5170 - mae: 4.9932\n",
            "Epoch 81/100\n",
            "31/31 [==============================] - 0s 10ms/step - loss: 4.5270 - mae: 5.0014\n",
            "Epoch 82/100\n",
            "31/31 [==============================] - 0s 11ms/step - loss: 4.5490 - mae: 5.0259\n",
            "Epoch 83/100\n",
            "31/31 [==============================] - 1s 16ms/step - loss: 4.5376 - mae: 5.0122\n",
            "Epoch 84/100\n",
            "31/31 [==============================] - 1s 15ms/step - loss: 4.6837 - mae: 5.1611\n",
            "Epoch 85/100\n",
            "31/31 [==============================] - 1s 10ms/step - loss: 4.5755 - mae: 5.0530\n",
            "Epoch 86/100\n",
            "31/31 [==============================] - 1s 18ms/step - loss: 4.5429 - mae: 5.0203\n",
            "Epoch 87/100\n",
            "31/31 [==============================] - 0s 10ms/step - loss: 4.5195 - mae: 4.9961\n",
            "Epoch 88/100\n",
            "31/31 [==============================] - 0s 10ms/step - loss: 4.5693 - mae: 5.0470\n",
            "Epoch 89/100\n",
            "31/31 [==============================] - 0s 10ms/step - loss: 4.5129 - mae: 4.9903\n",
            "Epoch 90/100\n",
            "31/31 [==============================] - 0s 10ms/step - loss: 4.5250 - mae: 4.9986\n",
            "Epoch 91/100\n",
            "31/31 [==============================] - 0s 10ms/step - loss: 4.5125 - mae: 4.9895\n",
            "Epoch 92/100\n",
            "31/31 [==============================] - 0s 10ms/step - loss: 4.5015 - mae: 4.9795\n",
            "Epoch 93/100\n",
            "31/31 [==============================] - 1s 17ms/step - loss: 4.4935 - mae: 4.9669\n",
            "Epoch 94/100\n",
            "31/31 [==============================] - 1s 13ms/step - loss: 4.6142 - mae: 5.0926\n",
            "Epoch 95/100\n",
            "31/31 [==============================] - 0s 10ms/step - loss: 4.6060 - mae: 5.0809\n",
            "Epoch 96/100\n",
            "31/31 [==============================] - 0s 10ms/step - loss: 4.5467 - mae: 5.0274\n",
            "Epoch 97/100\n",
            "31/31 [==============================] - 0s 10ms/step - loss: 4.5334 - mae: 5.0092\n",
            "Epoch 98/100\n",
            "31/31 [==============================] - 0s 10ms/step - loss: 4.5353 - mae: 5.0103\n",
            "Epoch 99/100\n",
            "31/31 [==============================] - 0s 10ms/step - loss: 4.5021 - mae: 4.9749\n",
            "Epoch 100/100\n",
            "31/31 [==============================] - 0s 9ms/step - loss: 4.4743 - mae: 4.9515\n"
          ]
        }
      ],
      "source": [
        "# Reset states generated by Keras\n",
        "tf.keras.backend.clear_session()\n",
        "\n",
        "# Build the model\n",
        "model = tf.keras.models.Sequential([\n",
        "  tf.keras.layers.Lambda(lambda x: tf.expand_dims(x, axis=-1),\n",
        "                      input_shape=[None]),\n",
        "   tf.keras.layers.Bidirectional(tf.keras.layers.LSTM(32, return_sequences=True)),\n",
        "  tf.keras.layers.Bidirectional(tf.keras.layers.LSTM(32)),\n",
        "  tf.keras.layers.Dense(1),\n",
        "  tf.keras.layers.Lambda(lambda x: x * 100.0)\n",
        "])\n",
        "\n",
        "# Set the learning rate\n",
        "learning_rate = 2e-6\n",
        "\n",
        "# Set the optimizer \n",
        "optimizer = tf.keras.optimizers.SGD(learning_rate=learning_rate, momentum=0.9)\n",
        "\n",
        "# Set the training parameters\n",
        "model.compile(loss=tf.keras.losses.Huber(),\n",
        "              optimizer=optimizer,\n",
        "              metrics=[\"mae\"])\n",
        "\n",
        "# Train the model\n",
        "history = model.fit(dataset,epochs=100)"
      ]
    },
    {
      "cell_type": "markdown",
      "metadata": {
        "id": "RjP4kbGiI7cw"
      },
      "source": [
        "## Model Prediction\n",
        "\n",
        "You will then generate batches of windows to generate predictions that align with the validation set."
      ]
    },
    {
      "cell_type": "code",
      "execution_count": 12,
      "metadata": {
        "id": "QO8cfKwKBBG6"
      },
      "outputs": [],
      "source": [
        "def model_forecast(model, series, window_size, batch_size):\n",
        "    \"\"\"Uses an input model to generate predictions on data windows\n",
        "\n",
        "    Args:\n",
        "      model (TF Keras Model) - model that accepts data windows\n",
        "      series (array of float) - contains the values of the time series\n",
        "      window_size (int) - the number of time steps to include in the window\n",
        "      batch_size (int) - the batch size\n",
        "\n",
        "    Returns:\n",
        "      forecast (numpy array) - array containing predictions\n",
        "    \"\"\"\n",
        "\n",
        "    # Generate a TF Dataset from the series values\n",
        "    dataset = tf.data.Dataset.from_tensor_slices(series)\n",
        "\n",
        "    # Window the data but only take those with the specified size\n",
        "    dataset = dataset.window(window_size, shift=1, drop_remainder=True)\n",
        "\n",
        "    # Flatten the windows by putting its elements in a single batch\n",
        "    dataset = dataset.flat_map(lambda w: w.batch(window_size))\n",
        "    \n",
        "    # Create batches of windows\n",
        "    dataset = dataset.batch(batch_size).prefetch(1)\n",
        "    \n",
        "    # Get predictions on the entire dataset\n",
        "    forecast = model.predict(dataset)\n",
        "    \n",
        "    return forecast"
      ]
    },
    {
      "cell_type": "code",
      "execution_count": 13,
      "metadata": {
        "id": "_plB3UseBD8o",
        "colab": {
          "base_uri": "https://localhost:8080/",
          "height": 388
        },
        "outputId": "8ce252f7-adb7-40dc-bfc5-15fcc4027f34"
      },
      "outputs": [
        {
          "output_type": "display_data",
          "data": {
            "text/plain": [
              "<Figure size 720x432 with 1 Axes>"
            ],
            "image/png": "[encoded data removed]"
          },
          "metadata": {
            "needs_background": "light"
          }
        }
      ],
      "source": [
        "# Reduce the original series\n",
        "forecast_series = series[split_time-window_size:-1]\n",
        "\n",
        "# Use helper function to generate predictions\n",
        "forecast = model_forecast(model, forecast_series, window_size, batch_size)\n",
        "\n",
        "# Drop single dimensional axis\n",
        "results = forecast.squeeze()\n",
        "\n",
        "# Plot the results\n",
        "plot_series(time_valid, (x_valid, results))"
      ]
    },
    {
      "cell_type": "markdown",
      "metadata": {
        "id": "Nn8iSQkZtaRC"
      },
      "source": [
        "You can then generate the metrics to evaluate the model's performance."
      ]
    },
    {
      "cell_type": "code",
      "execution_count": 14,
      "metadata": {
        "id": "-IKhueZaBGID",
        "colab": {
          "base_uri": "https://localhost:8080/"
        },
        "outputId": "09b5b94f-f486-46de-b7ed-74fc6b6ca5b1"
      },
      "outputs": [
        {
          "output_type": "stream",
          "name": "stdout",
          "text": [
            "69.68637\n",
            "5.9892845\n"
          ]
        }
      ],
      "source": [
        "# Compute the MSE and MAE\n",
        "print(tf.keras.metrics.mean_squared_error(x_valid, results).numpy())\n",
        "print(tf.keras.metrics.mean_absolute_error(x_valid, results).numpy())"
      ]
    },
    {
      "cell_type": "markdown",
      "metadata": {
        "id": "bzPIqeMWvbPy"
      },
      "source": [
        "## Wrap Up\n",
        "\n",
        "This concludes this short exercise on using LSTMs for time series forecasting. Next week, you will build upon this and add convolutions. Then, you will start to move away from synthetic data and use real-world datasets. See you there!"
      ]
    },
    {
      "cell_type": "markdown",
      "metadata": {
        "id": "U5PqTePGHeMH"
      },
      "source": [
        "## Optional: Including a Validation Set while Training\n",
        "\n",
        "Back in the first course of this specialization, you saw how you can also monitor the performance of your model against a validation set while training. You can also do that for this lab. \n",
        "\n",
        "First, you need to generate a `val_set` which are data windows and labels that your model can accept. You can simply reuse the `windowed_dataset` function for that and you can pass in the `x_valid` points to generate the windows."
      ]
    },
    {
      "cell_type": "code",
      "execution_count": 15,
      "metadata": {
        "id": "kvFVwL3PC4iX"
      },
      "outputs": [],
      "source": [
        "# Generate data windows of the validation set\n",
        "val_set = windowed_dataset(x_valid, window_size, batch_size, shuffle_buffer_size)"
      ]
    },
    {
      "cell_type": "markdown",
      "metadata": {
        "id": "p68j6XxEvP9K"
      },
      "source": [
        "You can then do the same training as before but pass in the `val_set` to the `validation_data` parameter of the `fit()` method."
      ]
    },
    {
      "cell_type": "code",
      "execution_count": 16,
      "metadata": {
        "id": "wujKz6tXDSn0",
        "colab": {
          "base_uri": "https://localhost:8080/"
        },
        "outputId": "ed5f8266-bb8a-45ce-8759-712be6fe40e3"
      },
      "outputs": [
        {
          "output_type": "stream",
          "name": "stdout",
          "text": [
            "Epoch 1/100\n",
            "31/31 [==============================] - 7s 56ms/step - loss: 21.2921 - mae: 21.7864 - val_loss: 26.0124 - val_mae: 26.5105\n",
            "Epoch 2/100\n",
            "31/31 [==============================] - 1s 13ms/step - loss: 11.5469 - mae: 12.0402 - val_loss: 29.1932 - val_mae: 29.6906\n",
            "Epoch 3/100\n",
            "31/31 [==============================] - 1s 14ms/step - loss: 9.2002 - mae: 9.6847 - val_loss: 23.2798 - val_mae: 23.7777\n",
            "Epoch 4/100\n",
            "31/31 [==============================] - 0s 13ms/step - loss: 7.7944 - mae: 8.2745 - val_loss: 19.6599 - val_mae: 20.1562\n",
            "Epoch 5/100\n",
            "31/31 [==============================] - 1s 14ms/step - loss: 6.9843 - mae: 7.4621 - val_loss: 18.0476 - val_mae: 18.5443\n",
            "Epoch 6/100\n",
            "31/31 [==============================] - 1s 13ms/step - loss: 6.4573 - mae: 6.9383 - val_loss: 16.4115 - val_mae: 16.9053\n",
            "Epoch 7/100\n",
            "31/31 [==============================] - 1s 13ms/step - loss: 6.1810 - mae: 6.6562 - val_loss: 13.8804 - val_mae: 14.3743\n",
            "Epoch 8/100\n",
            "31/31 [==============================] - 1s 13ms/step - loss: 6.0283 - mae: 6.5099 - val_loss: 12.4057 - val_mae: 12.8960\n",
            "Epoch 9/100\n",
            "31/31 [==============================] - 1s 14ms/step - loss: 5.8797 - mae: 6.3612 - val_loss: 12.3566 - val_mae: 12.8505\n",
            "Epoch 10/100\n",
            "31/31 [==============================] - 1s 14ms/step - loss: 5.7453 - mae: 6.2284 - val_loss: 10.8438 - val_mae: 11.3386\n",
            "Epoch 11/100\n",
            "31/31 [==============================] - 1s 13ms/step - loss: 5.7068 - mae: 6.1901 - val_loss: 11.1156 - val_mae: 11.6051\n",
            "Epoch 12/100\n",
            "31/31 [==============================] - 0s 13ms/step - loss: 5.5987 - mae: 6.0780 - val_loss: 10.4017 - val_mae: 10.8877\n",
            "Epoch 13/100\n",
            "31/31 [==============================] - 1s 13ms/step - loss: 5.5256 - mae: 6.0046 - val_loss: 9.3936 - val_mae: 9.8818\n",
            "Epoch 14/100\n",
            "31/31 [==============================] - 1s 13ms/step - loss: 5.4825 - mae: 5.9627 - val_loss: 10.1953 - val_mae: 10.6856\n",
            "Epoch 15/100\n",
            "31/31 [==============================] - 1s 13ms/step - loss: 5.4235 - mae: 5.9056 - val_loss: 8.9415 - val_mae: 9.4279\n",
            "Epoch 16/100\n",
            "31/31 [==============================] - 1s 13ms/step - loss: 5.4113 - mae: 5.8874 - val_loss: 8.5963 - val_mae: 9.0848\n",
            "Epoch 17/100\n",
            "31/31 [==============================] - 1s 14ms/step - loss: 5.3480 - mae: 5.8249 - val_loss: 8.7826 - val_mae: 9.2683\n",
            "Epoch 18/100\n",
            "31/31 [==============================] - 1s 14ms/step - loss: 5.3149 - mae: 5.7934 - val_loss: 8.8939 - val_mae: 9.3802\n",
            "Epoch 19/100\n",
            "31/31 [==============================] - 1s 14ms/step - loss: 5.2988 - mae: 5.7781 - val_loss: 8.3600 - val_mae: 8.8472\n",
            "Epoch 20/100\n",
            "31/31 [==============================] - 1s 14ms/step - loss: 5.2578 - mae: 5.7336 - val_loss: 8.0636 - val_mae: 8.5505\n",
            "Epoch 21/100\n",
            "31/31 [==============================] - 1s 14ms/step - loss: 5.4340 - mae: 5.9110 - val_loss: 8.8621 - val_mae: 9.3471\n",
            "Epoch 22/100\n",
            "31/31 [==============================] - 1s 13ms/step - loss: 5.2850 - mae: 5.7601 - val_loss: 9.2987 - val_mae: 9.7919\n",
            "Epoch 23/100\n",
            "31/31 [==============================] - 1s 14ms/step - loss: 5.1671 - mae: 5.6427 - val_loss: 8.7722 - val_mae: 9.2571\n",
            "Epoch 24/100\n",
            "31/31 [==============================] - 1s 13ms/step - loss: 5.1174 - mae: 5.5915 - val_loss: 8.2373 - val_mae: 8.7209\n",
            "Epoch 25/100\n",
            "31/31 [==============================] - 1s 13ms/step - loss: 5.1415 - mae: 5.6213 - val_loss: 8.6041 - val_mae: 9.0920\n",
            "Epoch 26/100\n",
            "31/31 [==============================] - 1s 14ms/step - loss: 5.0743 - mae: 5.5507 - val_loss: 7.0915 - val_mae: 7.5735\n",
            "Epoch 27/100\n",
            "31/31 [==============================] - 1s 14ms/step - loss: 5.2336 - mae: 5.7121 - val_loss: 8.6167 - val_mae: 9.1058\n",
            "Epoch 28/100\n",
            "31/31 [==============================] - 1s 14ms/step - loss: 5.0362 - mae: 5.5142 - val_loss: 7.8928 - val_mae: 8.3751\n",
            "Epoch 29/100\n",
            "31/31 [==============================] - 1s 14ms/step - loss: 5.0050 - mae: 5.4824 - val_loss: 7.5163 - val_mae: 8.0031\n",
            "Epoch 30/100\n",
            "31/31 [==============================] - 1s 13ms/step - loss: 4.9766 - mae: 5.4502 - val_loss: 6.9160 - val_mae: 7.3969\n",
            "Epoch 31/100\n",
            "31/31 [==============================] - 1s 15ms/step - loss: 4.9964 - mae: 5.4713 - val_loss: 7.4203 - val_mae: 7.9053\n",
            "Epoch 32/100\n",
            "31/31 [==============================] - 1s 20ms/step - loss: 4.9512 - mae: 5.4284 - val_loss: 7.8668 - val_mae: 8.3490\n",
            "Epoch 33/100\n",
            "31/31 [==============================] - 1s 17ms/step - loss: 4.9539 - mae: 5.4292 - val_loss: 7.0926 - val_mae: 7.5740\n",
            "Epoch 34/100\n",
            "31/31 [==============================] - 1s 13ms/step - loss: 4.9103 - mae: 5.3858 - val_loss: 7.7175 - val_mae: 8.2005\n",
            "Epoch 35/100\n",
            "31/31 [==============================] - 1s 14ms/step - loss: 4.9173 - mae: 5.3917 - val_loss: 7.8701 - val_mae: 8.3558\n",
            "Epoch 36/100\n",
            "31/31 [==============================] - 1s 13ms/step - loss: 4.9226 - mae: 5.4008 - val_loss: 6.6866 - val_mae: 7.1705\n",
            "Epoch 37/100\n",
            "31/31 [==============================] - 1s 14ms/step - loss: 4.8580 - mae: 5.3333 - val_loss: 7.0834 - val_mae: 7.5644\n",
            "Epoch 38/100\n",
            "31/31 [==============================] - 1s 14ms/step - loss: 4.8321 - mae: 5.3100 - val_loss: 6.9303 - val_mae: 7.4106\n",
            "Epoch 39/100\n",
            "31/31 [==============================] - 1s 13ms/step - loss: 4.8424 - mae: 5.3216 - val_loss: 8.0440 - val_mae: 8.5321\n",
            "Epoch 40/100\n",
            "31/31 [==============================] - 1s 14ms/step - loss: 4.9174 - mae: 5.3957 - val_loss: 6.5140 - val_mae: 6.9987\n",
            "Epoch 41/100\n",
            "31/31 [==============================] - 1s 13ms/step - loss: 4.8383 - mae: 5.3124 - val_loss: 7.2155 - val_mae: 7.7010\n",
            "Epoch 42/100\n",
            "31/31 [==============================] - 1s 14ms/step - loss: 4.9145 - mae: 5.3936 - val_loss: 6.7722 - val_mae: 7.2519\n",
            "Epoch 43/100\n",
            "31/31 [==============================] - 1s 14ms/step - loss: 4.7656 - mae: 5.2390 - val_loss: 6.4185 - val_mae: 6.9040\n",
            "Epoch 44/100\n",
            "31/31 [==============================] - 1s 14ms/step - loss: 4.7825 - mae: 5.2576 - val_loss: 6.4077 - val_mae: 6.8932\n",
            "Epoch 45/100\n",
            "31/31 [==============================] - 1s 13ms/step - loss: 4.7756 - mae: 5.2528 - val_loss: 6.9433 - val_mae: 7.4267\n",
            "Epoch 46/100\n",
            "31/31 [==============================] - 1s 14ms/step - loss: 4.7298 - mae: 5.2049 - val_loss: 6.9811 - val_mae: 7.4664\n",
            "Epoch 47/100\n",
            "31/31 [==============================] - 1s 14ms/step - loss: 4.6985 - mae: 5.1752 - val_loss: 7.3621 - val_mae: 7.8452\n",
            "Epoch 48/100\n",
            "31/31 [==============================] - 1s 14ms/step - loss: 4.7992 - mae: 5.2771 - val_loss: 6.3263 - val_mae: 6.8079\n",
            "Epoch 49/100\n",
            "31/31 [==============================] - 1s 14ms/step - loss: 4.6787 - mae: 5.1595 - val_loss: 6.2279 - val_mae: 6.7132\n",
            "Epoch 50/100\n",
            "31/31 [==============================] - 1s 14ms/step - loss: 4.6579 - mae: 5.1345 - val_loss: 6.6390 - val_mae: 7.1180\n",
            "Epoch 51/100\n",
            "31/31 [==============================] - 1s 14ms/step - loss: 4.6850 - mae: 5.1594 - val_loss: 6.4495 - val_mae: 6.9285\n",
            "Epoch 52/100\n",
            "31/31 [==============================] - 1s 14ms/step - loss: 4.7121 - mae: 5.1901 - val_loss: 7.0201 - val_mae: 7.5060\n",
            "Epoch 53/100\n",
            "31/31 [==============================] - 1s 15ms/step - loss: 4.6841 - mae: 5.1616 - val_loss: 6.0704 - val_mae: 6.5567\n",
            "Epoch 54/100\n",
            "31/31 [==============================] - 1s 14ms/step - loss: 4.7796 - mae: 5.2591 - val_loss: 7.5667 - val_mae: 8.0543\n",
            "Epoch 55/100\n",
            "31/31 [==============================] - 1s 14ms/step - loss: 4.8395 - mae: 5.3163 - val_loss: 7.3830 - val_mae: 7.8680\n",
            "Epoch 56/100\n",
            "31/31 [==============================] - 1s 14ms/step - loss: 4.6354 - mae: 5.1141 - val_loss: 6.6715 - val_mae: 7.1523\n",
            "Epoch 57/100\n",
            "31/31 [==============================] - 1s 14ms/step - loss: 4.6575 - mae: 5.1361 - val_loss: 6.0753 - val_mae: 6.5619\n",
            "Epoch 58/100\n",
            "31/31 [==============================] - 1s 14ms/step - loss: 4.7617 - mae: 5.2393 - val_loss: 5.8665 - val_mae: 6.3505\n",
            "Epoch 59/100\n",
            "31/31 [==============================] - 1s 14ms/step - loss: 4.6637 - mae: 5.1396 - val_loss: 5.9312 - val_mae: 6.4203\n",
            "Epoch 60/100\n",
            "31/31 [==============================] - 1s 13ms/step - loss: 4.6558 - mae: 5.1314 - val_loss: 5.9333 - val_mae: 6.4206\n",
            "Epoch 61/100\n",
            "31/31 [==============================] - 1s 14ms/step - loss: 4.6112 - mae: 5.0927 - val_loss: 6.5584 - val_mae: 7.0381\n",
            "Epoch 62/100\n",
            "31/31 [==============================] - 1s 13ms/step - loss: 4.6201 - mae: 5.0983 - val_loss: 6.3708 - val_mae: 6.8529\n",
            "Epoch 63/100\n",
            "31/31 [==============================] - 1s 14ms/step - loss: 4.6663 - mae: 5.1432 - val_loss: 7.1982 - val_mae: 7.6836\n",
            "Epoch 64/100\n",
            "31/31 [==============================] - 1s 14ms/step - loss: 4.5756 - mae: 5.0529 - val_loss: 6.2975 - val_mae: 6.7763\n",
            "Epoch 65/100\n",
            "31/31 [==============================] - 1s 13ms/step - loss: 4.6264 - mae: 5.1045 - val_loss: 6.4407 - val_mae: 6.9234\n",
            "Epoch 66/100\n",
            "31/31 [==============================] - 1s 14ms/step - loss: 4.6665 - mae: 5.1417 - val_loss: 5.8584 - val_mae: 6.3452\n",
            "Epoch 67/100\n",
            "31/31 [==============================] - 1s 14ms/step - loss: 4.6654 - mae: 5.1432 - val_loss: 5.6106 - val_mae: 6.0866\n",
            "Epoch 68/100\n",
            "31/31 [==============================] - 1s 15ms/step - loss: 5.0541 - mae: 5.5328 - val_loss: 5.5751 - val_mae: 6.0547\n",
            "Epoch 69/100\n",
            "31/31 [==============================] - 1s 14ms/step - loss: 4.6457 - mae: 5.1236 - val_loss: 5.8018 - val_mae: 6.2870\n",
            "Epoch 70/100\n",
            "31/31 [==============================] - 1s 14ms/step - loss: 4.5559 - mae: 5.0294 - val_loss: 5.9948 - val_mae: 6.4777\n",
            "Epoch 71/100\n",
            "31/31 [==============================] - 1s 14ms/step - loss: 4.5454 - mae: 5.0225 - val_loss: 5.8147 - val_mae: 6.3005\n",
            "Epoch 72/100\n",
            "31/31 [==============================] - 1s 14ms/step - loss: 4.5676 - mae: 5.0426 - val_loss: 6.0968 - val_mae: 6.5777\n",
            "Epoch 73/100\n",
            "31/31 [==============================] - 1s 14ms/step - loss: 4.6259 - mae: 5.0989 - val_loss: 6.9585 - val_mae: 7.4418\n",
            "Epoch 74/100\n",
            "31/31 [==============================] - 1s 14ms/step - loss: 4.6006 - mae: 5.0792 - val_loss: 5.9835 - val_mae: 6.4636\n",
            "Epoch 75/100\n",
            "31/31 [==============================] - 1s 14ms/step - loss: 4.5339 - mae: 5.0079 - val_loss: 6.2073 - val_mae: 6.6877\n",
            "Epoch 76/100\n",
            "31/31 [==============================] - 1s 14ms/step - loss: 4.5681 - mae: 5.0465 - val_loss: 5.9131 - val_mae: 6.3929\n",
            "Epoch 77/100\n",
            "31/31 [==============================] - 1s 14ms/step - loss: 4.6222 - mae: 5.1027 - val_loss: 7.3716 - val_mae: 7.8595\n",
            "Epoch 78/100\n",
            "31/31 [==============================] - 1s 14ms/step - loss: 4.6118 - mae: 5.0869 - val_loss: 5.6615 - val_mae: 6.1471\n",
            "Epoch 79/100\n",
            "31/31 [==============================] - 1s 14ms/step - loss: 4.5177 - mae: 4.9889 - val_loss: 6.2963 - val_mae: 6.7780\n",
            "Epoch 80/100\n",
            "31/31 [==============================] - 1s 14ms/step - loss: 4.5458 - mae: 5.0219 - val_loss: 6.0303 - val_mae: 6.5100\n",
            "Epoch 81/100\n",
            "31/31 [==============================] - 1s 14ms/step - loss: 4.4989 - mae: 4.9787 - val_loss: 5.6032 - val_mae: 6.0872\n",
            "Epoch 82/100\n",
            "31/31 [==============================] - 1s 14ms/step - loss: 4.5857 - mae: 5.0608 - val_loss: 5.3751 - val_mae: 5.8511\n",
            "Epoch 83/100\n",
            "31/31 [==============================] - 1s 14ms/step - loss: 4.6217 - mae: 5.0948 - val_loss: 6.0364 - val_mae: 6.5161\n",
            "Epoch 84/100\n",
            "31/31 [==============================] - 1s 13ms/step - loss: 4.5061 - mae: 4.9825 - val_loss: 5.8180 - val_mae: 6.2986\n",
            "Epoch 85/100\n",
            "31/31 [==============================] - 1s 13ms/step - loss: 4.4827 - mae: 4.9571 - val_loss: 5.7303 - val_mae: 6.2142\n",
            "Epoch 86/100\n",
            "31/31 [==============================] - 1s 14ms/step - loss: 4.6400 - mae: 5.1133 - val_loss: 5.8171 - val_mae: 6.3011\n",
            "Epoch 87/100\n",
            "31/31 [==============================] - 1s 14ms/step - loss: 4.6161 - mae: 5.0878 - val_loss: 5.5382 - val_mae: 6.0169\n",
            "Epoch 88/100\n",
            "31/31 [==============================] - 1s 14ms/step - loss: 4.5352 - mae: 5.0141 - val_loss: 6.7433 - val_mae: 7.2259\n",
            "Epoch 89/100\n",
            "31/31 [==============================] - 1s 14ms/step - loss: 4.5989 - mae: 5.0755 - val_loss: 6.8409 - val_mae: 7.3229\n",
            "Epoch 90/100\n",
            "31/31 [==============================] - 1s 14ms/step - loss: 4.5164 - mae: 4.9918 - val_loss: 6.0673 - val_mae: 6.5472\n",
            "Epoch 91/100\n",
            "31/31 [==============================] - 1s 14ms/step - loss: 4.4845 - mae: 4.9608 - val_loss: 5.9151 - val_mae: 6.3970\n",
            "Epoch 92/100\n",
            "31/31 [==============================] - 1s 14ms/step - loss: 4.4987 - mae: 4.9734 - val_loss: 5.6471 - val_mae: 6.1303\n",
            "Epoch 93/100\n",
            "31/31 [==============================] - 1s 14ms/step - loss: 4.5446 - mae: 5.0210 - val_loss: 6.7712 - val_mae: 7.2528\n",
            "Epoch 94/100\n",
            "31/31 [==============================] - 1s 14ms/step - loss: 4.5336 - mae: 5.0095 - val_loss: 5.8742 - val_mae: 6.3548\n",
            "Epoch 95/100\n",
            "31/31 [==============================] - 1s 14ms/step - loss: 4.4888 - mae: 4.9625 - val_loss: 5.6294 - val_mae: 6.1095\n",
            "Epoch 96/100\n",
            "31/31 [==============================] - 1s 14ms/step - loss: 4.4566 - mae: 4.9328 - val_loss: 5.7867 - val_mae: 6.2681\n",
            "Epoch 97/100\n",
            "31/31 [==============================] - 1s 14ms/step - loss: 4.5029 - mae: 4.9794 - val_loss: 5.4327 - val_mae: 5.9131\n",
            "Epoch 98/100\n",
            "31/31 [==============================] - 1s 14ms/step - loss: 4.4552 - mae: 4.9314 - val_loss: 5.4260 - val_mae: 5.9071\n",
            "Epoch 99/100\n",
            "31/31 [==============================] - 1s 14ms/step - loss: 4.4342 - mae: 4.9112 - val_loss: 5.4033 - val_mae: 5.8834\n",
            "Epoch 100/100\n",
            "31/31 [==============================] - 1s 14ms/step - loss: 4.4870 - mae: 4.9627 - val_loss: 5.4657 - val_mae: 5.9448\n"
          ]
        }
      ],
      "source": [
        "# Reset states generated by Keras\n",
        "tf.keras.backend.clear_session()\n",
        "\n",
        "# Build the model\n",
        "model = tf.keras.models.Sequential([\n",
        "  tf.keras.layers.Lambda(lambda x: tf.expand_dims(x, axis=-1),\n",
        "                      input_shape=[None]),\n",
        "   tf.keras.layers.Bidirectional(tf.keras.layers.LSTM(32, return_sequences=True)),\n",
        "  tf.keras.layers.Bidirectional(tf.keras.layers.LSTM(32)),\n",
        "  tf.keras.layers.Dense(1),\n",
        "  tf.keras.layers.Lambda(lambda x: x * 100.0)\n",
        "])\n",
        "\n",
        "# Set the learning rate\n",
        "learning_rate = 2e-6\n",
        "\n",
        "# Set the optimizer \n",
        "optimizer = tf.keras.optimizers.SGD(learning_rate=learning_rate, momentum=0.9)\n",
        "\n",
        "# Set the training parameters\n",
        "model.compile(loss=tf.keras.losses.Huber(),\n",
        "              optimizer=optimizer,\n",
        "              metrics=[\"mae\"])\n",
        "\n",
        "# Train the model\n",
        "history = model.fit(dataset,epochs=100, validation_data=val_set)"
      ]
    },
    {
      "cell_type": "code",
      "source": [
        ""
      ],
      "metadata": {
        "id": "k7jCcgalX0JV"
      },
      "execution_count": 16,
      "outputs": []
    }
  ],
  "metadata": {
    "accelerator": "GPU",
    "colab": {
      "collapsed_sections": [],
      "name": "Copy of C4_W3_Lab_2_LSTM.ipynb",
      "provenance": []
    },
    "kernelspec": {
      "display_name": "Python 3",
      "language": "python",
      "name": "python3"
    },
    "language_info": {
      "codemirror_mode": {
        "name": "ipython",
        "version": 3
      },
      "file_extension": ".py",
      "mimetype": "text/x-python",
      "name": "python",
      "nbconvert_exporter": "python",
      "pygments_lexer": "ipython3",
      "version": "3.7.4"
    },
    "gpuClass": "standard"
  },
  "nbformat": 4,
  "nbformat_minor": 0
}